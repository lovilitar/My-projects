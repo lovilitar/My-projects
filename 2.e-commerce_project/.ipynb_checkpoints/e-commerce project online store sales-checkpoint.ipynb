{
 "cells": [
  {
   "cell_type": "markdown",
   "metadata": {},
   "source": [
    "##  E-commerce проект продажи интернет магазина\n",
    "Проект от https://karpov.courses/analytics\n",
    "\n",
    "Проджект попросил проанализировать процесс совершение покупки и ответить на следующие вопросы:\n",
    "1. Сколько у нас пользователей, которые совершили покупку только один раз?\n",
    "2. Сколько заказов в месяц в среднем не доставляется по разным причинам?\n",
    "3. По каждому товару определить, в какой день недели товар чаще всего покупается.\n",
    "4. Сколько у каждого из пользователей в среднем покупок в неделю (по месяцам)?\n",
    "5. В период с января по декабрь выяви когорту с самым высоким retention на 1й месяц.\n",
    "6. Провести качественный анализ и построить RFM-сегментацию\n"
   ]
  },
  {
   "cell_type": "code",
   "execution_count": 1,
   "metadata": {},
   "outputs": [],
   "source": [
    "import pandas as pd\n",
    "import numpy as np\n",
    "import matplotlib.pyplot as plt\n",
    "import seaborn as sns\n",
    "import requests\n",
    "import urllib\n",
    "import json\n",
    "\n",
    "%matplotlib inline"
   ]
  },
  {
   "cell_type": "code",
   "execution_count": 2,
   "metadata": {},
   "outputs": [],
   "source": [
    "prefecs = 'https://getfile.dokpub.com/yandex/get/'\n",
    "file_1_customers = 'http://disk.yandex.ru/d/QXrVDUoQvFhIcg'\n",
    "file_2_orders = 'https://disk.yandex.ru/d/0zWmh1bYP6REbw'\n",
    "file_3_order_item = 'https://disk.yandex.ru/d/xCsQ0FiC-Ue4Lg'\n",
    "\n",
    "df_customers = pd.read_csv(prefecs + file_1_customers)\n",
    "df_orders = pd.read_csv(\n",
    "    prefecs + file_2_orders,\n",
    "    parse_dates=[\n",
    "        'order_purchase_timestamp',\n",
    "        'order_approved_at',\n",
    "        'order_delivered_carrier_date',\n",
    "        'order_delivered_customer_date',\n",
    "        'order_estimated_delivery_date'\n",
    "    ]\n",
    ")\n",
    "df_order_item = pd.read_csv(\n",
    "    prefecs + file_3_order_item,\n",
    "    parse_dates=['shipping_limit_date']\n",
    ")"
   ]
  },
  {
   "cell_type": "code",
   "execution_count": 3,
   "metadata": {},
   "outputs": [],
   "source": [
    "# Настроим отображение графиков\n",
    "sns.set(\n",
    "    font_scale=1,\n",
    "    style='whitegrid',\n",
    "    rc={\"figure.figsize\": (18, 7)})"
   ]
  },
  {
   "cell_type": "markdown",
   "metadata": {},
   "source": [
    "### Изучим данные и проверим достоверность данных\n"
   ]
  },
  {
   "cell_type": "code",
   "execution_count": 4,
   "metadata": {
    "scrolled": false
   },
   "outputs": [
    {
     "data": {
      "text/html": [
       "<div>\n",
       "<style scoped>\n",
       "    .dataframe tbody tr th:only-of-type {\n",
       "        vertical-align: middle;\n",
       "    }\n",
       "\n",
       "    .dataframe tbody tr th {\n",
       "        vertical-align: top;\n",
       "    }\n",
       "\n",
       "    .dataframe thead th {\n",
       "        text-align: right;\n",
       "    }\n",
       "</style>\n",
       "<table border=\"1\" class=\"dataframe\">\n",
       "  <thead>\n",
       "    <tr style=\"text-align: right;\">\n",
       "      <th></th>\n",
       "      <th>customer_id</th>\n",
       "      <th>customer_unique_id</th>\n",
       "      <th>customer_zip_code_prefix</th>\n",
       "      <th>customer_city</th>\n",
       "      <th>customer_state</th>\n",
       "    </tr>\n",
       "  </thead>\n",
       "  <tbody>\n",
       "    <tr>\n",
       "      <th>0</th>\n",
       "      <td>06b8999e2fba1a1fbc88172c00ba8bc7</td>\n",
       "      <td>861eff4711a542e4b93843c6dd7febb0</td>\n",
       "      <td>14409</td>\n",
       "      <td>franca</td>\n",
       "      <td>SP</td>\n",
       "    </tr>\n",
       "    <tr>\n",
       "      <th>1</th>\n",
       "      <td>18955e83d337fd6b2def6b18a428ac77</td>\n",
       "      <td>290c77bc529b7ac935b93aa66c333dc3</td>\n",
       "      <td>9790</td>\n",
       "      <td>sao bernardo do campo</td>\n",
       "      <td>SP</td>\n",
       "    </tr>\n",
       "    <tr>\n",
       "      <th>2</th>\n",
       "      <td>4e7b3e00288586ebd08712fdd0374a03</td>\n",
       "      <td>060e732b5b29e8181a18229c7b0b2b5e</td>\n",
       "      <td>1151</td>\n",
       "      <td>sao paulo</td>\n",
       "      <td>SP</td>\n",
       "    </tr>\n",
       "    <tr>\n",
       "      <th>3</th>\n",
       "      <td>b2b6027bc5c5109e529d4dc6358b12c3</td>\n",
       "      <td>259dac757896d24d7702b9acbbff3f3c</td>\n",
       "      <td>8775</td>\n",
       "      <td>mogi das cruzes</td>\n",
       "      <td>SP</td>\n",
       "    </tr>\n",
       "    <tr>\n",
       "      <th>4</th>\n",
       "      <td>4f2d8ab171c80ec8364f7c12e35b23ad</td>\n",
       "      <td>345ecd01c38d18a9036ed96c73b8d066</td>\n",
       "      <td>13056</td>\n",
       "      <td>campinas</td>\n",
       "      <td>SP</td>\n",
       "    </tr>\n",
       "  </tbody>\n",
       "</table>\n",
       "</div>"
      ],
      "text/plain": [
       "                        customer_id                customer_unique_id  \\\n",
       "0  06b8999e2fba1a1fbc88172c00ba8bc7  861eff4711a542e4b93843c6dd7febb0   \n",
       "1  18955e83d337fd6b2def6b18a428ac77  290c77bc529b7ac935b93aa66c333dc3   \n",
       "2  4e7b3e00288586ebd08712fdd0374a03  060e732b5b29e8181a18229c7b0b2b5e   \n",
       "3  b2b6027bc5c5109e529d4dc6358b12c3  259dac757896d24d7702b9acbbff3f3c   \n",
       "4  4f2d8ab171c80ec8364f7c12e35b23ad  345ecd01c38d18a9036ed96c73b8d066   \n",
       "\n",
       "   customer_zip_code_prefix          customer_city customer_state  \n",
       "0                     14409                 franca             SP  \n",
       "1                      9790  sao bernardo do campo             SP  \n",
       "2                      1151              sao paulo             SP  \n",
       "3                      8775        mogi das cruzes             SP  \n",
       "4                     13056               campinas             SP  "
      ]
     },
     "execution_count": 4,
     "metadata": {},
     "output_type": "execute_result"
    }
   ],
   "source": [
    "df_customers.head()"
   ]
  },
  {
   "cell_type": "code",
   "execution_count": 5,
   "metadata": {},
   "outputs": [
    {
     "data": {
      "text/plain": [
       "customer_id                 object\n",
       "customer_unique_id          object\n",
       "customer_zip_code_prefix     int64\n",
       "customer_city               object\n",
       "customer_state              object\n",
       "dtype: object"
      ]
     },
     "execution_count": 5,
     "metadata": {},
     "output_type": "execute_result"
    }
   ],
   "source": [
    "df_customers.dtypes # Проверим тип данных"
   ]
  },
  {
   "cell_type": "code",
   "execution_count": 6,
   "metadata": {
    "scrolled": true
   },
   "outputs": [
    {
     "data": {
      "text/plain": [
       "99441"
      ]
     },
     "execution_count": 6,
     "metadata": {},
     "output_type": "execute_result"
    }
   ],
   "source": [
    "df_customers.shape[0] # Кол строк"
   ]
  },
  {
   "cell_type": "code",
   "execution_count": 7,
   "metadata": {
    "scrolled": true
   },
   "outputs": [
    {
     "data": {
      "text/plain": [
       "customer_id                 0\n",
       "customer_unique_id          0\n",
       "customer_zip_code_prefix    0\n",
       "customer_city               0\n",
       "customer_state              0\n",
       "dtype: int64"
      ]
     },
     "execution_count": 7,
     "metadata": {},
     "output_type": "execute_result"
    }
   ],
   "source": [
    "# Проверим null\n",
    "df_customers.isnull().sum()"
   ]
  },
  {
   "cell_type": "code",
   "execution_count": 8,
   "metadata": {
    "scrolled": false
   },
   "outputs": [
    {
     "data": {
      "text/plain": [
       "customer_id                 99441\n",
       "customer_unique_id          96096\n",
       "customer_zip_code_prefix    14994\n",
       "customer_city                4119\n",
       "customer_state                 27\n",
       "dtype: int64"
      ]
     },
     "execution_count": 8,
     "metadata": {},
     "output_type": "execute_result"
    }
   ],
   "source": [
    "df_customers.nunique() # Как видим одному пользователю может принадлежать несколько customer_id"
   ]
  },
  {
   "cell_type": "code",
   "execution_count": 9,
   "metadata": {},
   "outputs": [
    {
     "data": {
      "text/html": [
       "<div>\n",
       "<style scoped>\n",
       "    .dataframe tbody tr th:only-of-type {\n",
       "        vertical-align: middle;\n",
       "    }\n",
       "\n",
       "    .dataframe tbody tr th {\n",
       "        vertical-align: top;\n",
       "    }\n",
       "\n",
       "    .dataframe thead th {\n",
       "        text-align: right;\n",
       "    }\n",
       "</style>\n",
       "<table border=\"1\" class=\"dataframe\">\n",
       "  <thead>\n",
       "    <tr style=\"text-align: right;\">\n",
       "      <th></th>\n",
       "      <th>order_id</th>\n",
       "      <th>customer_id</th>\n",
       "      <th>order_status</th>\n",
       "      <th>order_purchase_timestamp</th>\n",
       "      <th>order_approved_at</th>\n",
       "      <th>order_delivered_carrier_date</th>\n",
       "      <th>order_delivered_customer_date</th>\n",
       "      <th>order_estimated_delivery_date</th>\n",
       "    </tr>\n",
       "  </thead>\n",
       "  <tbody>\n",
       "    <tr>\n",
       "      <th>0</th>\n",
       "      <td>e481f51cbdc54678b7cc49136f2d6af7</td>\n",
       "      <td>9ef432eb6251297304e76186b10a928d</td>\n",
       "      <td>delivered</td>\n",
       "      <td>2017-10-02 10:56:33</td>\n",
       "      <td>2017-10-02 11:07:15</td>\n",
       "      <td>2017-10-04 19:55:00</td>\n",
       "      <td>2017-10-10 21:25:13</td>\n",
       "      <td>2017-10-18</td>\n",
       "    </tr>\n",
       "    <tr>\n",
       "      <th>1</th>\n",
       "      <td>53cdb2fc8bc7dce0b6741e2150273451</td>\n",
       "      <td>b0830fb4747a6c6d20dea0b8c802d7ef</td>\n",
       "      <td>delivered</td>\n",
       "      <td>2018-07-24 20:41:37</td>\n",
       "      <td>2018-07-26 03:24:27</td>\n",
       "      <td>2018-07-26 14:31:00</td>\n",
       "      <td>2018-08-07 15:27:45</td>\n",
       "      <td>2018-08-13</td>\n",
       "    </tr>\n",
       "    <tr>\n",
       "      <th>2</th>\n",
       "      <td>47770eb9100c2d0c44946d9cf07ec65d</td>\n",
       "      <td>41ce2a54c0b03bf3443c3d931a367089</td>\n",
       "      <td>delivered</td>\n",
       "      <td>2018-08-08 08:38:49</td>\n",
       "      <td>2018-08-08 08:55:23</td>\n",
       "      <td>2018-08-08 13:50:00</td>\n",
       "      <td>2018-08-17 18:06:29</td>\n",
       "      <td>2018-09-04</td>\n",
       "    </tr>\n",
       "    <tr>\n",
       "      <th>3</th>\n",
       "      <td>949d5b44dbf5de918fe9c16f97b45f8a</td>\n",
       "      <td>f88197465ea7920adcdbec7375364d82</td>\n",
       "      <td>delivered</td>\n",
       "      <td>2017-11-18 19:28:06</td>\n",
       "      <td>2017-11-18 19:45:59</td>\n",
       "      <td>2017-11-22 13:39:59</td>\n",
       "      <td>2017-12-02 00:28:42</td>\n",
       "      <td>2017-12-15</td>\n",
       "    </tr>\n",
       "    <tr>\n",
       "      <th>4</th>\n",
       "      <td>ad21c59c0840e6cb83a9ceb5573f8159</td>\n",
       "      <td>8ab97904e6daea8866dbdbc4fb7aad2c</td>\n",
       "      <td>delivered</td>\n",
       "      <td>2018-02-13 21:18:39</td>\n",
       "      <td>2018-02-13 22:20:29</td>\n",
       "      <td>2018-02-14 19:46:34</td>\n",
       "      <td>2018-02-16 18:17:02</td>\n",
       "      <td>2018-02-26</td>\n",
       "    </tr>\n",
       "  </tbody>\n",
       "</table>\n",
       "</div>"
      ],
      "text/plain": [
       "                           order_id                       customer_id  \\\n",
       "0  e481f51cbdc54678b7cc49136f2d6af7  9ef432eb6251297304e76186b10a928d   \n",
       "1  53cdb2fc8bc7dce0b6741e2150273451  b0830fb4747a6c6d20dea0b8c802d7ef   \n",
       "2  47770eb9100c2d0c44946d9cf07ec65d  41ce2a54c0b03bf3443c3d931a367089   \n",
       "3  949d5b44dbf5de918fe9c16f97b45f8a  f88197465ea7920adcdbec7375364d82   \n",
       "4  ad21c59c0840e6cb83a9ceb5573f8159  8ab97904e6daea8866dbdbc4fb7aad2c   \n",
       "\n",
       "  order_status order_purchase_timestamp   order_approved_at  \\\n",
       "0    delivered      2017-10-02 10:56:33 2017-10-02 11:07:15   \n",
       "1    delivered      2018-07-24 20:41:37 2018-07-26 03:24:27   \n",
       "2    delivered      2018-08-08 08:38:49 2018-08-08 08:55:23   \n",
       "3    delivered      2017-11-18 19:28:06 2017-11-18 19:45:59   \n",
       "4    delivered      2018-02-13 21:18:39 2018-02-13 22:20:29   \n",
       "\n",
       "  order_delivered_carrier_date order_delivered_customer_date  \\\n",
       "0          2017-10-04 19:55:00           2017-10-10 21:25:13   \n",
       "1          2018-07-26 14:31:00           2018-08-07 15:27:45   \n",
       "2          2018-08-08 13:50:00           2018-08-17 18:06:29   \n",
       "3          2017-11-22 13:39:59           2017-12-02 00:28:42   \n",
       "4          2018-02-14 19:46:34           2018-02-16 18:17:02   \n",
       "\n",
       "  order_estimated_delivery_date  \n",
       "0                    2017-10-18  \n",
       "1                    2018-08-13  \n",
       "2                    2018-09-04  \n",
       "3                    2017-12-15  \n",
       "4                    2018-02-26  "
      ]
     },
     "execution_count": 9,
     "metadata": {},
     "output_type": "execute_result"
    }
   ],
   "source": [
    "df_orders.head()"
   ]
  },
  {
   "cell_type": "code",
   "execution_count": 10,
   "metadata": {
    "scrolled": false
   },
   "outputs": [
    {
     "data": {
      "text/plain": [
       "order_id                                 object\n",
       "customer_id                              object\n",
       "order_status                             object\n",
       "order_purchase_timestamp         datetime64[ns]\n",
       "order_approved_at                datetime64[ns]\n",
       "order_delivered_carrier_date     datetime64[ns]\n",
       "order_delivered_customer_date    datetime64[ns]\n",
       "order_estimated_delivery_date    datetime64[ns]\n",
       "dtype: object"
      ]
     },
     "execution_count": 10,
     "metadata": {},
     "output_type": "execute_result"
    }
   ],
   "source": [
    "df_orders.dtypes # Проверим тип данных"
   ]
  },
  {
   "cell_type": "code",
   "execution_count": 11,
   "metadata": {},
   "outputs": [
    {
     "data": {
      "text/plain": [
       "Timestamp('2016-09-04 21:15:19')"
      ]
     },
     "execution_count": 11,
     "metadata": {},
     "output_type": "execute_result"
    }
   ],
   "source": [
    "df_orders.order_purchase_timestamp.min() # Первый заказ"
   ]
  },
  {
   "cell_type": "code",
   "execution_count": 12,
   "metadata": {
    "scrolled": true
   },
   "outputs": [
    {
     "data": {
      "text/plain": [
       "Timestamp('2018-10-17 17:30:18')"
      ]
     },
     "execution_count": 12,
     "metadata": {},
     "output_type": "execute_result"
    }
   ],
   "source": [
    "df_orders.order_purchase_timestamp.max() # Заказ "
   ]
  },
  {
   "cell_type": "code",
   "execution_count": 13,
   "metadata": {},
   "outputs": [
    {
     "data": {
      "text/plain": [
       "772"
      ]
     },
     "execution_count": 13,
     "metadata": {},
     "output_type": "execute_result"
    }
   ],
   "source": [
    "# Данные за дней:\n",
    "(df_orders.order_purchase_timestamp.max() - df_orders.order_purchase_timestamp.min()).days"
   ]
  },
  {
   "cell_type": "code",
   "execution_count": 14,
   "metadata": {},
   "outputs": [
    {
     "data": {
      "text/plain": [
       "99441"
      ]
     },
     "execution_count": 14,
     "metadata": {},
     "output_type": "execute_result"
    }
   ],
   "source": [
    "df_orders.shape[0] # Кол строк"
   ]
  },
  {
   "cell_type": "code",
   "execution_count": 15,
   "metadata": {},
   "outputs": [
    {
     "data": {
      "text/plain": [
       "order_id                            0\n",
       "customer_id                         0\n",
       "order_status                        0\n",
       "order_purchase_timestamp            0\n",
       "order_approved_at                 160\n",
       "order_delivered_carrier_date     1783\n",
       "order_delivered_customer_date    2965\n",
       "order_estimated_delivery_date       0\n",
       "dtype: int64"
      ]
     },
     "execution_count": 15,
     "metadata": {},
     "output_type": "execute_result"
    }
   ],
   "source": [
    "# Проверим null\n",
    "df_orders.isnull().sum()"
   ]
  },
  {
   "cell_type": "code",
   "execution_count": 16,
   "metadata": {},
   "outputs": [
    {
     "data": {
      "text/plain": [
       "order_status\n",
       "approved           2\n",
       "canceled         625\n",
       "created            5\n",
       "delivered      96478\n",
       "invoiced         314\n",
       "processing       301\n",
       "shipped         1107\n",
       "unavailable      609\n",
       "dtype: int64"
      ]
     },
     "execution_count": 16,
     "metadata": {},
     "output_type": "execute_result"
    }
   ],
   "source": [
    "df_orders.groupby('order_status').size() # Посмотрим кол заказов с различными статусами, как видим есть отмененные и недоступные"
   ]
  },
  {
   "cell_type": "code",
   "execution_count": 17,
   "metadata": {},
   "outputs": [
    {
     "data": {
      "text/html": [
       "<div>\n",
       "<style scoped>\n",
       "    .dataframe tbody tr th:only-of-type {\n",
       "        vertical-align: middle;\n",
       "    }\n",
       "\n",
       "    .dataframe tbody tr th {\n",
       "        vertical-align: top;\n",
       "    }\n",
       "\n",
       "    .dataframe thead th {\n",
       "        text-align: right;\n",
       "    }\n",
       "</style>\n",
       "<table border=\"1\" class=\"dataframe\">\n",
       "  <thead>\n",
       "    <tr style=\"text-align: right;\">\n",
       "      <th></th>\n",
       "      <th>order_id</th>\n",
       "      <th>order_item_id</th>\n",
       "      <th>product_id</th>\n",
       "      <th>seller_id</th>\n",
       "      <th>shipping_limit_date</th>\n",
       "      <th>price</th>\n",
       "      <th>freight_value</th>\n",
       "    </tr>\n",
       "  </thead>\n",
       "  <tbody>\n",
       "    <tr>\n",
       "      <th>0</th>\n",
       "      <td>00010242fe8c5a6d1ba2dd792cb16214</td>\n",
       "      <td>1</td>\n",
       "      <td>4244733e06e7ecb4970a6e2683c13e61</td>\n",
       "      <td>48436dade18ac8b2bce089ec2a041202</td>\n",
       "      <td>2017-09-19 09:45:35</td>\n",
       "      <td>58.90</td>\n",
       "      <td>13.29</td>\n",
       "    </tr>\n",
       "    <tr>\n",
       "      <th>1</th>\n",
       "      <td>00018f77f2f0320c557190d7a144bdd3</td>\n",
       "      <td>1</td>\n",
       "      <td>e5f2d52b802189ee658865ca93d83a8f</td>\n",
       "      <td>dd7ddc04e1b6c2c614352b383efe2d36</td>\n",
       "      <td>2017-05-03 11:05:13</td>\n",
       "      <td>239.90</td>\n",
       "      <td>19.93</td>\n",
       "    </tr>\n",
       "    <tr>\n",
       "      <th>2</th>\n",
       "      <td>000229ec398224ef6ca0657da4fc703e</td>\n",
       "      <td>1</td>\n",
       "      <td>c777355d18b72b67abbeef9df44fd0fd</td>\n",
       "      <td>5b51032eddd242adc84c38acab88f23d</td>\n",
       "      <td>2018-01-18 14:48:30</td>\n",
       "      <td>199.00</td>\n",
       "      <td>17.87</td>\n",
       "    </tr>\n",
       "    <tr>\n",
       "      <th>3</th>\n",
       "      <td>00024acbcdf0a6daa1e931b038114c75</td>\n",
       "      <td>1</td>\n",
       "      <td>7634da152a4610f1595efa32f14722fc</td>\n",
       "      <td>9d7a1d34a5052409006425275ba1c2b4</td>\n",
       "      <td>2018-08-15 10:10:18</td>\n",
       "      <td>12.99</td>\n",
       "      <td>12.79</td>\n",
       "    </tr>\n",
       "    <tr>\n",
       "      <th>4</th>\n",
       "      <td>00042b26cf59d7ce69dfabb4e55b4fd9</td>\n",
       "      <td>1</td>\n",
       "      <td>ac6c3623068f30de03045865e4e10089</td>\n",
       "      <td>df560393f3a51e74553ab94004ba5c87</td>\n",
       "      <td>2017-02-13 13:57:51</td>\n",
       "      <td>199.90</td>\n",
       "      <td>18.14</td>\n",
       "    </tr>\n",
       "  </tbody>\n",
       "</table>\n",
       "</div>"
      ],
      "text/plain": [
       "                           order_id  order_item_id  \\\n",
       "0  00010242fe8c5a6d1ba2dd792cb16214              1   \n",
       "1  00018f77f2f0320c557190d7a144bdd3              1   \n",
       "2  000229ec398224ef6ca0657da4fc703e              1   \n",
       "3  00024acbcdf0a6daa1e931b038114c75              1   \n",
       "4  00042b26cf59d7ce69dfabb4e55b4fd9              1   \n",
       "\n",
       "                         product_id                         seller_id  \\\n",
       "0  4244733e06e7ecb4970a6e2683c13e61  48436dade18ac8b2bce089ec2a041202   \n",
       "1  e5f2d52b802189ee658865ca93d83a8f  dd7ddc04e1b6c2c614352b383efe2d36   \n",
       "2  c777355d18b72b67abbeef9df44fd0fd  5b51032eddd242adc84c38acab88f23d   \n",
       "3  7634da152a4610f1595efa32f14722fc  9d7a1d34a5052409006425275ba1c2b4   \n",
       "4  ac6c3623068f30de03045865e4e10089  df560393f3a51e74553ab94004ba5c87   \n",
       "\n",
       "  shipping_limit_date   price  freight_value  \n",
       "0 2017-09-19 09:45:35   58.90          13.29  \n",
       "1 2017-05-03 11:05:13  239.90          19.93  \n",
       "2 2018-01-18 14:48:30  199.00          17.87  \n",
       "3 2018-08-15 10:10:18   12.99          12.79  \n",
       "4 2017-02-13 13:57:51  199.90          18.14  "
      ]
     },
     "execution_count": 17,
     "metadata": {},
     "output_type": "execute_result"
    }
   ],
   "source": [
    "df_order_item.head()"
   ]
  },
  {
   "cell_type": "code",
   "execution_count": 18,
   "metadata": {},
   "outputs": [
    {
     "data": {
      "text/plain": [
       "order_id                       object\n",
       "order_item_id                   int64\n",
       "product_id                     object\n",
       "seller_id                      object\n",
       "shipping_limit_date    datetime64[ns]\n",
       "price                         float64\n",
       "freight_value                 float64\n",
       "dtype: object"
      ]
     },
     "execution_count": 18,
     "metadata": {},
     "output_type": "execute_result"
    }
   ],
   "source": [
    "df_order_item.dtypes # Проверим тип данных"
   ]
  },
  {
   "cell_type": "code",
   "execution_count": 19,
   "metadata": {},
   "outputs": [
    {
     "data": {
      "text/plain": [
       "112650"
      ]
     },
     "execution_count": 19,
     "metadata": {},
     "output_type": "execute_result"
    }
   ],
   "source": [
    "df_order_item.shape[0] # Кол строк"
   ]
  },
  {
   "cell_type": "code",
   "execution_count": 20,
   "metadata": {
    "scrolled": true
   },
   "outputs": [
    {
     "data": {
      "text/plain": [
       "order_id               0\n",
       "order_item_id          0\n",
       "product_id             0\n",
       "seller_id              0\n",
       "shipping_limit_date    0\n",
       "price                  0\n",
       "freight_value          0\n",
       "dtype: int64"
      ]
     },
     "execution_count": 20,
     "metadata": {},
     "output_type": "execute_result"
    }
   ],
   "source": [
    "df_order_item.isnull().sum()"
   ]
  },
  {
   "cell_type": "code",
   "execution_count": 21,
   "metadata": {},
   "outputs": [
    {
     "data": {
      "text/plain": [
       "order_id               98666\n",
       "order_item_id             21\n",
       "product_id             32951\n",
       "seller_id               3095\n",
       "shipping_limit_date    93318\n",
       "price                   5968\n",
       "freight_value           6999\n",
       "dtype: int64"
      ]
     },
     "execution_count": 21,
     "metadata": {},
     "output_type": "execute_result"
    }
   ],
   "source": [
    "df_order_item.nunique()"
   ]
  },
  {
   "cell_type": "markdown",
   "metadata": {},
   "source": [
    "### Сколько у нас пользователей, которые совершили покупку только один раз?"
   ]
  },
  {
   "cell_type": "code",
   "execution_count": 22,
   "metadata": {
    "scrolled": false
   },
   "outputs": [
    {
     "name": "stdout",
     "output_type": "stream",
     "text": [
      "Только 1 раз совершили покупку 92542 пользователей, что составляет 96.9%, от всех покупателей\n"
     ]
    }
   ],
   "source": [
    "# Определимся кто такой покупатель:\n",
    "# Это точно тот кто оплатил товар (order_approved_at != NaN) и у него статус \n",
    "# не canceled, так как отмена заказа не считается покупкой.\n",
    "\n",
    "# Найдем количество заказов каждого пользователя. \n",
    "# Посмотрим сколько входят пользователей в группу с 1 заказом и в группу > 1.\n",
    "unique_id_by_orders = (df_customers.merge(df_orders, on='customer_id')\n",
    "                       .loc[(df_orders['order_approved_at'].notnull()) & \n",
    "                            (df_orders['order_status'] != 'canceled')]\n",
    "                       .groupby('customer_unique_id', as_index=False)\n",
    "                       .agg({'customer_id': 'count'})\n",
    "                       .rename(columns={'customer_id': 'count_orders'}))\n",
    "\n",
    "# Группа с 1 заказом:\n",
    "one_order = unique_id_by_orders.loc[unique_id_by_orders['count_orders'] == 1]['customer_unique_id'].count()\n",
    "\n",
    "# В процентах от всех пользователей:\n",
    "total_customers = unique_id_by_orders['customer_unique_id'].count()\n",
    "one_order_percentage = round((one_order / total_customers) * 100, 2)\n",
    "\n",
    "print(f'Только 1 раз совершили покупку {one_order} пользователей, '\n",
    "      f'что составляет {one_order_percentage}%, от всех покупателей')"
   ]
  },
  {
   "cell_type": "code",
   "execution_count": 23,
   "metadata": {
    "scrolled": true
   },
   "outputs": [
    {
     "name": "stdout",
     "output_type": "stream",
     "text": [
      "Больше 1 раза совершили покупку 2957 пользователей, что составляет 3.1%, от всех покупателей\n"
     ]
    }
   ],
   "source": [
    "# А сколько у нас пользователей, которые делают больше 1 заказа:\n",
    "more_one_order = (unique_id_by_orders\n",
    "                 .loc[unique_id_by_orders['count_orders'] > 1]\n",
    "                 ['customer_unique_id']\n",
    "                 .count())\n",
    "\n",
    "# В процентах от всех пользователей:\n",
    "total_customers = unique_id_by_orders['customer_unique_id'].count()\n",
    "more_one_order_percentage = round((more_one_order / total_customers) * 100, 2)\n",
    "\n",
    "print(f'Больше 1 раза совершили покупку {more_one_order} пользователей, '\n",
    "      f'что составляет {more_one_order_percentage}%, от всех покупателей')"
   ]
  },
  {
   "cell_type": "markdown",
   "metadata": {},
   "source": [
    "### Сколько заказов в месяц в среднем не доставляется по разным причинам?"
   ]
  },
  {
   "cell_type": "code",
   "execution_count": 24,
   "metadata": {
    "scrolled": false
   },
   "outputs": [
    {
     "name": "stdout",
     "output_type": "stream",
     "text": [
      "Не смогли доставить 1234 заказов, что составляет 1.24%, от всех заказов. В среднем в месяц не доставляют 47 закзаов\n",
      "Из которых отменили заказ 625 заказов, что составляет 0.63%, от всех заказов. В среднем в месяц не доставляют 24 закзаов\n",
      "и не смогли доставить 609 заказов, что составляет 0.61%, от всех заказов. В среднем в месяц не доставляют 24 закзаов\n"
     ]
    }
   ],
   "source": [
    "# Создадим отдельный столбец с месяцем\n",
    "# Месяц в который не доставили, будем считать тот в который должны были привезти товар.\n",
    "df_orders['estimated_delivery_month'] = df_orders['order_estimated_delivery_date'].dt.strftime('%m')\n",
    "df_orders['estimated_delivery_mon_year'] = df_orders['order_estimated_delivery_date'].dt.strftime('%Y-%m')\n",
    "\n",
    "# Товары которые не доставили, это unavailable и canceled. Так как другие либо доставлены либо в пути\n",
    "canceled_and_unavailable_orders = (\n",
    "    df_orders.query('order_status == \"unavailable\" or order_status == \"canceled\"') \\\n",
    "    .groupby(['estimated_delivery_mon_year','estimated_delivery_month', 'order_status'], as_index=False) \\\n",
    "    .agg(count_order_id = ('order_id', 'count'))\n",
    ")\n",
    "\n",
    "# Всего недоставили товаров\n",
    "all_canceled_orders = canceled_and_unavailable_orders['count_order_id'].sum()\n",
    "# Процент от всех заказов\n",
    "all_canceled_orders_percentage = round(all_canceled_orders / df_orders['order_id'].nunique() * 100, 2)\n",
    "# Заказов в среднем не смогли доставить\n",
    "all_mean_canceled_orders = (\n",
    "    canceled_and_unavailable_orders.groupby('estimated_delivery_mon_year', as_index=False) \\\n",
    "    .agg({'count_order_id': 'sum'})['count_order_id'].mean().astype(int)\n",
    ")\n",
    "\n",
    "print(f'Не смогли доставить {all_canceled_orders} заказов, '\n",
    "      f'что составляет {all_canceled_orders_percentage}%, от всех заказов. '\n",
    "      f'В среднем в месяц не доставляют {all_mean_canceled_orders} закзаов')\n",
    "\n",
    "# Отмененные заказы\n",
    "canceled_orders = canceled_and_unavailable_orders.query('order_status == \"canceled\"')['count_order_id'].sum()\n",
    "# Процент отмененных заказов от всех заказов\n",
    "canceled_orders_percentage = round(canceled_orders / df_orders['order_id'].nunique() * 100, 2)\n",
    "# Заказов в среднем не смогли доставить\n",
    "mean_canceled_orders = int(canceled_and_unavailable_orders.query('order_status == \"canceled\"')['count_order_id'].mean())\n",
    "\n",
    "print(f'Из которых отменили заказ {canceled_orders} заказов, '\n",
    "      f'что составляет {canceled_orders_percentage}%, от всех заказов. '\n",
    "      f'В среднем в месяц не доставляют {mean_canceled_orders} закзаов')\n",
    "\n",
    "# Не смогли доставить заказы\n",
    "unavailable_orders = canceled_and_unavailable_orders.query('order_status == \"unavailable\"')['count_order_id'].sum()\n",
    "# Процент заказов, которые не смогли доставить от всех заказов\n",
    "unavailable_orders_percentage = round(unavailable_orders / df_orders['order_id'].nunique() * 100, 2)\n",
    "# Заказов в среднем не смогли доставить\n",
    "mean_unavailable_orders = int(canceled_and_unavailable_orders.query('order_status == \"canceled\"')['count_order_id'].mean())\n",
    "\n",
    "print(f'и не смогли доставить {unavailable_orders} заказов, '\n",
    "      f'что составляет {unavailable_orders_percentage}%, от всех заказов. '\n",
    "      f'В среднем в месяц не доставляют {mean_unavailable_orders} закзаов')"
   ]
  },
  {
   "cell_type": "code",
   "execution_count": 25,
   "metadata": {},
   "outputs": [
    {
     "data": {
      "image/png": "[encoded data removed]",
      "text/plain": [
       "<Figure size 1296x504 with 1 Axes>"
      ]
     },
     "metadata": {},
     "output_type": "display_data"
    }
   ],
   "source": [
    "# Посмотрим распределение по месяцам \n",
    "sns.lineplot(data=canceled_and_unavailable_orders, x ='estimated_delivery_mon_year', y ='count_order_id', hue ='order_status')\n",
    "plt.xticks(rotation=45)\n",
    "plt.show()"
   ]
  },
  {
   "cell_type": "markdown",
   "metadata": {
    "scrolled": false
   },
   "source": [
    "### По каждому товару определить, в какой день недели чаще всего покупается"
   ]
  },
  {
   "cell_type": "code",
   "execution_count": 26,
   "metadata": {
    "scrolled": false
   },
   "outputs": [
    {
     "data": {
      "text/html": [
       "<div>\n",
       "<style scoped>\n",
       "    .dataframe tbody tr th:only-of-type {\n",
       "        vertical-align: middle;\n",
       "    }\n",
       "\n",
       "    .dataframe tbody tr th {\n",
       "        vertical-align: top;\n",
       "    }\n",
       "\n",
       "    .dataframe thead th {\n",
       "        text-align: right;\n",
       "    }\n",
       "</style>\n",
       "<table border=\"1\" class=\"dataframe\">\n",
       "  <thead>\n",
       "    <tr style=\"text-align: right;\">\n",
       "      <th></th>\n",
       "      <th>product_id</th>\n",
       "      <th>day_of_the_week_order</th>\n",
       "      <th>count_purchase</th>\n",
       "    </tr>\n",
       "  </thead>\n",
       "  <tbody>\n",
       "    <tr>\n",
       "      <th>8612</th>\n",
       "      <td>422879e10f46682990de24d770e7f83d</td>\n",
       "      <td>Wednesday</td>\n",
       "      <td>93</td>\n",
       "    </tr>\n",
       "    <tr>\n",
       "      <th>19740</th>\n",
       "      <td>99a4788cb24856965c36a24e339b6058</td>\n",
       "      <td>Monday</td>\n",
       "      <td>92</td>\n",
       "    </tr>\n",
       "    <tr>\n",
       "      <th>22110</th>\n",
       "      <td>aca2eb7d00ea1a7b8ebd4e68314663af</td>\n",
       "      <td>Thursday</td>\n",
       "      <td>89</td>\n",
       "    </tr>\n",
       "    <tr>\n",
       "      <th>10865</th>\n",
       "      <td>53b36df67ebb7c41585e8d54d6772e08</td>\n",
       "      <td>Tuesday</td>\n",
       "      <td>76</td>\n",
       "    </tr>\n",
       "    <tr>\n",
       "      <th>7363</th>\n",
       "      <td>389d119b48cf3043d311335e499d9c6b</td>\n",
       "      <td>Thursday</td>\n",
       "      <td>67</td>\n",
       "    </tr>\n",
       "  </tbody>\n",
       "</table>\n",
       "</div>"
      ],
      "text/plain": [
       "                             product_id day_of_the_week_order  count_purchase\n",
       "8612   422879e10f46682990de24d770e7f83d             Wednesday              93\n",
       "19740  99a4788cb24856965c36a24e339b6058                Monday              92\n",
       "22110  aca2eb7d00ea1a7b8ebd4e68314663af              Thursday              89\n",
       "10865  53b36df67ebb7c41585e8d54d6772e08               Tuesday              76\n",
       "7363   389d119b48cf3043d311335e499d9c6b              Thursday              67"
      ]
     },
     "execution_count": 26,
     "metadata": {},
     "output_type": "execute_result"
    }
   ],
   "source": [
    "# Будем считать только те заказы которые подтвердили order_approved_at != 0 \n",
    "# и будем выводить день недели когда задак был создан order_purchase_timestamp\n",
    "df_orders['day_of_the_week_order'] = df_orders.order_purchase_timestamp.dt.day_name() # день недели заказа\n",
    "df_orders_and_item = df_orders.merge(df_order_item, on = 'order_id') # объединим таблицы заказов и товаров\n",
    "\n",
    "# Уберем order_approved_at = 0 и сгрупируем по дням и товарам\n",
    "count_purchase_by_day = (\n",
    "    df_orders_and_item.loc[df_orders_and_item.order_approved_at.notnull()].groupby(['product_id', \"day_of_the_week_order\"], as_index = False) \\\n",
    "    .agg(count_purchase = ('order_id', 'count'))\n",
    ")\n",
    "\n",
    "# Найдем день в который чаще всего покупают товары\n",
    "day_of_the_week_purchase_product_id = (\n",
    "    count_purchase_by_day.groupby(['product_id'], as_index=False) \\\n",
    "    .apply(lambda group: group.loc[group['count_purchase'].idxmax()]) \\\n",
    "    .reset_index(drop=True) \\\n",
    "    .sort_values('count_purchase', ascending =False)\n",
    ")\n",
    "\n",
    "day_of_the_week_purchase_product_id.head()"
   ]
  },
  {
   "cell_type": "markdown",
   "metadata": {},
   "source": [
    "### Сколько у каждого из пользователей в среднем покупок в неделю (по месяцам)?\n",
    "(изменить месяца расчета)"
   ]
  },
  {
   "cell_type": "code",
   "execution_count": 27,
   "metadata": {},
   "outputs": [
    {
     "data": {
      "text/html": [
       "<div>\n",
       "<style scoped>\n",
       "    .dataframe tbody tr th:only-of-type {\n",
       "        vertical-align: middle;\n",
       "    }\n",
       "\n",
       "    .dataframe tbody tr th {\n",
       "        vertical-align: top;\n",
       "    }\n",
       "\n",
       "    .dataframe thead th {\n",
       "        text-align: right;\n",
       "    }\n",
       "</style>\n",
       "<table border=\"1\" class=\"dataframe\">\n",
       "  <thead>\n",
       "    <tr style=\"text-align: right;\">\n",
       "      <th></th>\n",
       "      <th>order_id</th>\n",
       "      <th>customer_id</th>\n",
       "      <th>order_status</th>\n",
       "      <th>order_purchase_timestamp</th>\n",
       "      <th>order_approved_at</th>\n",
       "      <th>order_delivered_carrier_date</th>\n",
       "      <th>order_delivered_customer_date</th>\n",
       "      <th>order_estimated_delivery_date</th>\n",
       "      <th>estimated_delivery_month</th>\n",
       "      <th>estimated_delivery_mon_year</th>\n",
       "      <th>day_of_the_week_order</th>\n",
       "      <th>weeks_in_month</th>\n",
       "      <th>order_purchase_month</th>\n",
       "      <th>order_purchase_mon_year</th>\n",
       "    </tr>\n",
       "  </thead>\n",
       "  <tbody>\n",
       "    <tr>\n",
       "      <th>0</th>\n",
       "      <td>e481f51cbdc54678b7cc49136f2d6af7</td>\n",
       "      <td>9ef432eb6251297304e76186b10a928d</td>\n",
       "      <td>delivered</td>\n",
       "      <td>2017-10-02 10:56:33</td>\n",
       "      <td>2017-10-02 11:07:15</td>\n",
       "      <td>2017-10-04 19:55:00</td>\n",
       "      <td>2017-10-10 21:25:13</td>\n",
       "      <td>2017-10-18</td>\n",
       "      <td>10</td>\n",
       "      <td>2017-10</td>\n",
       "      <td>Monday</td>\n",
       "      <td>4.43</td>\n",
       "      <td>10</td>\n",
       "      <td>2017-10</td>\n",
       "    </tr>\n",
       "    <tr>\n",
       "      <th>1</th>\n",
       "      <td>53cdb2fc8bc7dce0b6741e2150273451</td>\n",
       "      <td>b0830fb4747a6c6d20dea0b8c802d7ef</td>\n",
       "      <td>delivered</td>\n",
       "      <td>2018-07-24 20:41:37</td>\n",
       "      <td>2018-07-26 03:24:27</td>\n",
       "      <td>2018-07-26 14:31:00</td>\n",
       "      <td>2018-08-07 15:27:45</td>\n",
       "      <td>2018-08-13</td>\n",
       "      <td>08</td>\n",
       "      <td>2018-08</td>\n",
       "      <td>Tuesday</td>\n",
       "      <td>4.43</td>\n",
       "      <td>07</td>\n",
       "      <td>2018-07</td>\n",
       "    </tr>\n",
       "    <tr>\n",
       "      <th>2</th>\n",
       "      <td>47770eb9100c2d0c44946d9cf07ec65d</td>\n",
       "      <td>41ce2a54c0b03bf3443c3d931a367089</td>\n",
       "      <td>delivered</td>\n",
       "      <td>2018-08-08 08:38:49</td>\n",
       "      <td>2018-08-08 08:55:23</td>\n",
       "      <td>2018-08-08 13:50:00</td>\n",
       "      <td>2018-08-17 18:06:29</td>\n",
       "      <td>2018-09-04</td>\n",
       "      <td>09</td>\n",
       "      <td>2018-09</td>\n",
       "      <td>Wednesday</td>\n",
       "      <td>4.43</td>\n",
       "      <td>08</td>\n",
       "      <td>2018-08</td>\n",
       "    </tr>\n",
       "    <tr>\n",
       "      <th>3</th>\n",
       "      <td>949d5b44dbf5de918fe9c16f97b45f8a</td>\n",
       "      <td>f88197465ea7920adcdbec7375364d82</td>\n",
       "      <td>delivered</td>\n",
       "      <td>2017-11-18 19:28:06</td>\n",
       "      <td>2017-11-18 19:45:59</td>\n",
       "      <td>2017-11-22 13:39:59</td>\n",
       "      <td>2017-12-02 00:28:42</td>\n",
       "      <td>2017-12-15</td>\n",
       "      <td>12</td>\n",
       "      <td>2017-12</td>\n",
       "      <td>Saturday</td>\n",
       "      <td>4.29</td>\n",
       "      <td>11</td>\n",
       "      <td>2017-11</td>\n",
       "    </tr>\n",
       "    <tr>\n",
       "      <th>4</th>\n",
       "      <td>ad21c59c0840e6cb83a9ceb5573f8159</td>\n",
       "      <td>8ab97904e6daea8866dbdbc4fb7aad2c</td>\n",
       "      <td>delivered</td>\n",
       "      <td>2018-02-13 21:18:39</td>\n",
       "      <td>2018-02-13 22:20:29</td>\n",
       "      <td>2018-02-14 19:46:34</td>\n",
       "      <td>2018-02-16 18:17:02</td>\n",
       "      <td>2018-02-26</td>\n",
       "      <td>02</td>\n",
       "      <td>2018-02</td>\n",
       "      <td>Tuesday</td>\n",
       "      <td>4.00</td>\n",
       "      <td>02</td>\n",
       "      <td>2018-02</td>\n",
       "    </tr>\n",
       "  </tbody>\n",
       "</table>\n",
       "</div>"
      ],
      "text/plain": [
       "                           order_id                       customer_id  \\\n",
       "0  e481f51cbdc54678b7cc49136f2d6af7  9ef432eb6251297304e76186b10a928d   \n",
       "1  53cdb2fc8bc7dce0b6741e2150273451  b0830fb4747a6c6d20dea0b8c802d7ef   \n",
       "2  47770eb9100c2d0c44946d9cf07ec65d  41ce2a54c0b03bf3443c3d931a367089   \n",
       "3  949d5b44dbf5de918fe9c16f97b45f8a  f88197465ea7920adcdbec7375364d82   \n",
       "4  ad21c59c0840e6cb83a9ceb5573f8159  8ab97904e6daea8866dbdbc4fb7aad2c   \n",
       "\n",
       "  order_status order_purchase_timestamp   order_approved_at  \\\n",
       "0    delivered      2017-10-02 10:56:33 2017-10-02 11:07:15   \n",
       "1    delivered      2018-07-24 20:41:37 2018-07-26 03:24:27   \n",
       "2    delivered      2018-08-08 08:38:49 2018-08-08 08:55:23   \n",
       "3    delivered      2017-11-18 19:28:06 2017-11-18 19:45:59   \n",
       "4    delivered      2018-02-13 21:18:39 2018-02-13 22:20:29   \n",
       "\n",
       "  order_delivered_carrier_date order_delivered_customer_date  \\\n",
       "0          2017-10-04 19:55:00           2017-10-10 21:25:13   \n",
       "1          2018-07-26 14:31:00           2018-08-07 15:27:45   \n",
       "2          2018-08-08 13:50:00           2018-08-17 18:06:29   \n",
       "3          2017-11-22 13:39:59           2017-12-02 00:28:42   \n",
       "4          2018-02-14 19:46:34           2018-02-16 18:17:02   \n",
       "\n",
       "  order_estimated_delivery_date estimated_delivery_month  \\\n",
       "0                    2017-10-18                       10   \n",
       "1                    2018-08-13                       08   \n",
       "2                    2018-09-04                       09   \n",
       "3                    2017-12-15                       12   \n",
       "4                    2018-02-26                       02   \n",
       "\n",
       "  estimated_delivery_mon_year day_of_the_week_order  weeks_in_month  \\\n",
       "0                     2017-10                Monday            4.43   \n",
       "1                     2018-08               Tuesday            4.43   \n",
       "2                     2018-09             Wednesday            4.43   \n",
       "3                     2017-12              Saturday            4.29   \n",
       "4                     2018-02               Tuesday            4.00   \n",
       "\n",
       "  order_purchase_month order_purchase_mon_year  \n",
       "0                   10                 2017-10  \n",
       "1                   07                 2018-07  \n",
       "2                   08                 2018-08  \n",
       "3                   11                 2017-11  \n",
       "4                   02                 2018-02  "
      ]
     },
     "execution_count": 27,
     "metadata": {},
     "output_type": "execute_result"
    }
   ],
   "source": [
    "# Так как количество дней в месяце мб нечетное, расчитаем сколько недель в месяце\n",
    "# Добавим столбец количество дней в месяце, месяцы и месяцы с годом\n",
    "df_orders['weeks_in_month'] = df_orders.order_purchase_timestamp.apply(lambda date: date.days_in_month/7).round(2)\n",
    "df_orders['order_purchase_month'] = df_orders['order_purchase_timestamp'].dt.strftime('%m')\n",
    "df_orders['order_purchase_mon_year'] = df_orders['order_purchase_timestamp'].dt.strftime('%Y-%m')\n",
    "df_orders.head()"
   ]
  },
  {
   "cell_type": "code",
   "execution_count": 28,
   "metadata": {
    "scrolled": true
   },
   "outputs": [
    {
     "data": {
      "text/html": [
       "<div>\n",
       "<style scoped>\n",
       "    .dataframe tbody tr th:only-of-type {\n",
       "        vertical-align: middle;\n",
       "    }\n",
       "\n",
       "    .dataframe tbody tr th {\n",
       "        vertical-align: top;\n",
       "    }\n",
       "\n",
       "    .dataframe thead th {\n",
       "        text-align: right;\n",
       "    }\n",
       "</style>\n",
       "<table border=\"1\" class=\"dataframe\">\n",
       "  <thead>\n",
       "    <tr style=\"text-align: right;\">\n",
       "      <th></th>\n",
       "      <th>customer_unique_id</th>\n",
       "      <th>order_purchase_month</th>\n",
       "      <th>mean_purchase_week</th>\n",
       "    </tr>\n",
       "  </thead>\n",
       "  <tbody>\n",
       "    <tr>\n",
       "      <th>7286</th>\n",
       "      <td>12f5d6e1cbf93dafd9dcc19095df0b3d</td>\n",
       "      <td>01</td>\n",
       "      <td>1.35</td>\n",
       "    </tr>\n",
       "    <tr>\n",
       "      <th>68913</th>\n",
       "      <td>b4e4f24de1e8725b74e4a1f4975116ed</td>\n",
       "      <td>02</td>\n",
       "      <td>1.00</td>\n",
       "    </tr>\n",
       "    <tr>\n",
       "      <th>61766</th>\n",
       "      <td>a239b8e2fbce33780f1f1912e2ee5275</td>\n",
       "      <td>02</td>\n",
       "      <td>1.00</td>\n",
       "    </tr>\n",
       "    <tr>\n",
       "      <th>23765</th>\n",
       "      <td>3e43e6105506432c953e165fb2acf44c</td>\n",
       "      <td>02</td>\n",
       "      <td>1.00</td>\n",
       "    </tr>\n",
       "    <tr>\n",
       "      <th>14396</th>\n",
       "      <td>25a560b9a6006157838aab1bdbd68624</td>\n",
       "      <td>04</td>\n",
       "      <td>0.93</td>\n",
       "    </tr>\n",
       "  </tbody>\n",
       "</table>\n",
       "</div>"
      ],
      "text/plain": [
       "                     customer_unique_id order_purchase_month  \\\n",
       "7286   12f5d6e1cbf93dafd9dcc19095df0b3d                   01   \n",
       "68913  b4e4f24de1e8725b74e4a1f4975116ed                   02   \n",
       "61766  a239b8e2fbce33780f1f1912e2ee5275                   02   \n",
       "23765  3e43e6105506432c953e165fb2acf44c                   02   \n",
       "14396  25a560b9a6006157838aab1bdbd68624                   04   \n",
       "\n",
       "       mean_purchase_week  \n",
       "7286                 1.35  \n",
       "68913                1.00  \n",
       "61766                1.00  \n",
       "23765                1.00  \n",
       "14396                0.93  "
      ]
     },
     "execution_count": 28,
     "metadata": {},
     "output_type": "execute_result"
    }
   ],
   "source": [
    "# Расчитаем кол. покупок заказов в месяц. Исключаем пользователей без оплат и тех кто имеет статус canceled\n",
    "order_and_costomer = df_customers.merge(df_orders, on = 'customer_id') \\\n",
    "    .loc[(df_orders.order_approved_at.notnull()) & (df_orders.order_status != \"canceled\")]\n",
    "\n",
    "count_purchase_year = order_and_costomer.groupby(['customer_unique_id', 'order_purchase_mon_year', 'order_purchase_month', 'weeks_in_month'], as_index=False) \\\n",
    "    .agg(count_purchase = ('order_id', 'count'))\n",
    "# Создадим отдельный столбец со средним кол. покупок в неделю.\n",
    "count_purchase_year['mean_purchase_week'] = round(count_purchase_year['count_purchase']/ count_purchase_year[\"weeks_in_month\"], 2)\n",
    "# Уберем года и сгруппируем по месяцам\n",
    "count_purchase_year.groupby(['customer_unique_id', 'order_purchase_month'], as_index=False) \\\n",
    "    .agg({'mean_purchase_week': 'mean'}) \\\n",
    "    .sort_values('mean_purchase_week', ascending=False).head()"
   ]
  },
  {
   "cell_type": "markdown",
   "metadata": {},
   "source": [
    "### В период с января по декабрь выяви когорту с самым высоким retention на 1й месяц."
   ]
  },
  {
   "cell_type": "code",
   "execution_count": 29,
   "metadata": {
    "scrolled": true
   },
   "outputs": [
    {
     "data": {
      "text/html": [
       "<div>\n",
       "<style scoped>\n",
       "    .dataframe tbody tr th:only-of-type {\n",
       "        vertical-align: middle;\n",
       "    }\n",
       "\n",
       "    .dataframe tbody tr th {\n",
       "        vertical-align: top;\n",
       "    }\n",
       "\n",
       "    .dataframe thead th {\n",
       "        text-align: right;\n",
       "    }\n",
       "</style>\n",
       "<table border=\"1\" class=\"dataframe\">\n",
       "  <thead>\n",
       "    <tr style=\"text-align: right;\">\n",
       "      <th></th>\n",
       "      <th>month</th>\n",
       "      <th>N_month_retention</th>\n",
       "      <th>count_in_cogort</th>\n",
       "      <th>count_month_0</th>\n",
       "      <th>percent</th>\n",
       "    </tr>\n",
       "  </thead>\n",
       "  <tbody>\n",
       "    <tr>\n",
       "      <th>130</th>\n",
       "      <td>09</td>\n",
       "      <td>1</td>\n",
       "      <td>27</td>\n",
       "      <td>4110</td>\n",
       "      <td>0.66</td>\n",
       "    </tr>\n",
       "  </tbody>\n",
       "</table>\n",
       "</div>"
      ],
      "text/plain": [
       "    month  N_month_retention  count_in_cogort  count_month_0  percent\n",
       "130    09                  1               27           4110     0.66"
      ]
     },
     "execution_count": 29,
     "metadata": {},
     "output_type": "execute_result"
    }
   ],
   "source": [
    "# Создадим столбец с датой 1 покупки и расчитаем месяц для ретеншена\n",
    "order_and_costomer['first_bought'] = order_and_costomer.groupby('customer_unique_id')['order_purchase_timestamp'].transform('min').dt.to_period('M')\n",
    "order_and_costomer['N_month_retention'] = (\n",
    "    (order_and_costomer['order_purchase_timestamp'].dt.year - order_and_costomer['first_bought'].dt.year) * 12 + \n",
    "    (order_and_costomer['order_purchase_timestamp'].dt.month - order_and_costomer['first_bought'].dt.month) + 0\n",
    ")\n",
    "\n",
    "# Посчитаем сколько покупок совершали пользователи по годам и месяцам \n",
    "cogorta_by_year = order_and_costomer.groupby(['first_bought', 'N_month_retention'], as_index=False) \\\n",
    "    .agg(count_in_cogort = ('customer_unique_id', 'nunique'))\n",
    "cogorta_by_year['month'] = cogorta_by_year.first_bought.dt.strftime('%m')\n",
    "# Уберем год и сгрупируем по месяцу = когорты по месяцам\n",
    "cogorta_by_month = cogorta_by_year.groupby(['month', 'N_month_retention'], as_index=False) \\\n",
    "    .agg({'count_in_cogort': 'sum'}) \n",
    "# Расчитаем ретеншен по месяцам\n",
    "cogorta_by_month['count_month_0'] = cogorta_by_month.groupby('month').transform('max')['count_in_cogort']\n",
    "cogorta_by_month['percent'] = round(cogorta_by_month.count_in_cogort / cogorta_by_month.count_month_0 * 100, 2)\n",
    "# Мах ретеншен 1 дня:\n",
    "cogorta_by_month.loc[cogorta_by_month.N_month_retention == 1].sort_values('percent', ascending =False).head(1)"
   ]
  },
  {
   "cell_type": "code",
   "execution_count": 30,
   "metadata": {},
   "outputs": [
    {
     "data": {
      "text/plain": [
       "<matplotlib.axes._subplots.AxesSubplot at 0x7f96126e1c50>"
      ]
     },
     "execution_count": 30,
     "metadata": {},
     "output_type": "execute_result"
    },
    {
     "data": {
      "image/png": "[encoded data removed]",
      "text/plain": [
       "<Figure size 1296x504 with 1 Axes>"
      ]
     },
     "metadata": {},
     "output_type": "display_data"
    }
   ],
   "source": [
    "sns.lineplot(data = cogorta_by_month, x='N_month_retention', y ='count_in_cogort')"
   ]
  },
  {
   "cell_type": "markdown",
   "metadata": {},
   "source": [
    "### Провести качественный анализ и построить RFM-сегментацию"
   ]
  },
  {
   "cell_type": "code",
   "execution_count": 31,
   "metadata": {},
   "outputs": [
    {
     "name": "stdout",
     "output_type": "stream",
     "text": [
      "Orders from 2016-09-04 21:15:19 to 2018-10-17 17:30:18\n"
     ]
    }
   ],
   "source": [
    "# Максимальная и минимальная дата\n",
    "print('Orders from {} to {}'.format(order_and_costomer['order_purchase_timestamp'].min(),\n",
    "                                    order_and_costomer['order_purchase_timestamp'].max()))"
   ]
  },
  {
   "cell_type": "code",
   "execution_count": 32,
   "metadata": {
    "scrolled": true
   },
   "outputs": [],
   "source": [
    "# Создадим группу recency, используем данные из прошлого задания. Из выборки убираем заказы с отказами и заказы без оплат\n",
    "order_and_costomer['last_order'] = (order_and_costomer.order_purchase_timestamp.max() - order_and_costomer.order_purchase_timestamp).dt.days"
   ]
  },
  {
   "cell_type": "code",
   "execution_count": 33,
   "metadata": {},
   "outputs": [],
   "source": [
    "# Посчитаем выручку с заказа.\n",
    "df_order_item['sum_price'] = round(df_order_item.price * df_order_item.freight_value, 2)\n",
    "\n",
    "order_sum_price = df_order_item.groupby('order_id', as_index=False) \\\n",
    "    .agg({'sum_price' : 'sum'})"
   ]
  },
  {
   "cell_type": "code",
   "execution_count": 34,
   "metadata": {},
   "outputs": [
    {
     "data": {
      "text/html": [
       "<div>\n",
       "<style scoped>\n",
       "    .dataframe tbody tr th:only-of-type {\n",
       "        vertical-align: middle;\n",
       "    }\n",
       "\n",
       "    .dataframe tbody tr th {\n",
       "        vertical-align: top;\n",
       "    }\n",
       "\n",
       "    .dataframe thead th {\n",
       "        text-align: right;\n",
       "    }\n",
       "</style>\n",
       "<table border=\"1\" class=\"dataframe\">\n",
       "  <thead>\n",
       "    <tr style=\"text-align: right;\">\n",
       "      <th></th>\n",
       "      <th>customer_unique_id</th>\n",
       "      <th>order_purchase_timestamp</th>\n",
       "      <th>recency</th>\n",
       "      <th>frequency</th>\n",
       "      <th>monetary</th>\n",
       "    </tr>\n",
       "  </thead>\n",
       "  <tbody>\n",
       "    <tr>\n",
       "      <th>0</th>\n",
       "      <td>0000366f3b9a7992bf8c76cfdf3221e2</td>\n",
       "      <td>2018-05-10 10:56:27</td>\n",
       "      <td>160</td>\n",
       "      <td>1</td>\n",
       "      <td>1558.80</td>\n",
       "    </tr>\n",
       "    <tr>\n",
       "      <th>1</th>\n",
       "      <td>0000b849f77a49e4a4ce2b2a4ca5be3f</td>\n",
       "      <td>2018-05-07 11:11:27</td>\n",
       "      <td>163</td>\n",
       "      <td>1</td>\n",
       "      <td>156.68</td>\n",
       "    </tr>\n",
       "    <tr>\n",
       "      <th>2</th>\n",
       "      <td>0000f46a3911fa3c0805444483337064</td>\n",
       "      <td>2017-03-10 21:05:03</td>\n",
       "      <td>585</td>\n",
       "      <td>1</td>\n",
       "      <td>1188.18</td>\n",
       "    </tr>\n",
       "    <tr>\n",
       "      <th>3</th>\n",
       "      <td>0000f6ccb0745a6a4b88665a16c9f078</td>\n",
       "      <td>2017-10-12 20:29:41</td>\n",
       "      <td>369</td>\n",
       "      <td>1</td>\n",
       "      <td>458.20</td>\n",
       "    </tr>\n",
       "    <tr>\n",
       "      <th>4</th>\n",
       "      <td>0004aac84e0df4da2b147fca70cf8255</td>\n",
       "      <td>2017-11-14 19:45:42</td>\n",
       "      <td>336</td>\n",
       "      <td>1</td>\n",
       "      <td>3040.20</td>\n",
       "    </tr>\n",
       "  </tbody>\n",
       "</table>\n",
       "</div>"
      ],
      "text/plain": [
       "                 customer_unique_id order_purchase_timestamp  recency  \\\n",
       "0  0000366f3b9a7992bf8c76cfdf3221e2      2018-05-10 10:56:27      160   \n",
       "1  0000b849f77a49e4a4ce2b2a4ca5be3f      2018-05-07 11:11:27      163   \n",
       "2  0000f46a3911fa3c0805444483337064      2017-03-10 21:05:03      585   \n",
       "3  0000f6ccb0745a6a4b88665a16c9f078      2017-10-12 20:29:41      369   \n",
       "4  0004aac84e0df4da2b147fca70cf8255      2017-11-14 19:45:42      336   \n",
       "\n",
       "   frequency  monetary  \n",
       "0          1   1558.80  \n",
       "1          1    156.68  \n",
       "2          1   1188.18  \n",
       "3          1    458.20  \n",
       "4          1   3040.20  "
      ]
     },
     "execution_count": 34,
     "metadata": {},
     "output_type": "execute_result"
    }
   ],
   "source": [
    "# Присоединим таблицу:\n",
    "RFM = (\n",
    "    order_and_costomer.merge(order_sum_price, on = 'order_id', how='left') \\\n",
    "    .groupby(['customer_unique_id'], as_index=False) \\\n",
    "    .agg({'order_purchase_timestamp' : 'max','last_order' : 'min', 'order_id' : 'count', 'sum_price' : 'sum'}) \\\n",
    "    .rename(columns={'order_id' : 'frequency', 'last_order' : 'recency', 'sum_price' : 'monetary'})\n",
    ")\n",
    "RFM.head()"
   ]
  },
  {
   "cell_type": "code",
   "execution_count": 35,
   "metadata": {},
   "outputs": [
    {
     "data": {
      "text/plain": [
       "Timedelta('772 days 20:14:59')"
      ]
     },
     "execution_count": 35,
     "metadata": {},
     "output_type": "execute_result"
    }
   ],
   "source": [
    "# Разница между макс и мин: \n",
    "RFM['order_purchase_timestamp'].max() - RFM['order_purchase_timestamp'].min()"
   ]
  },
  {
   "cell_type": "code",
   "execution_count": 36,
   "metadata": {},
   "outputs": [
    {
     "name": "stdout",
     "output_type": "stream",
     "text": [
      "Минимальное кол. заказов 1, Максимальное кол. заказов 17\n",
      "Минимальная сумма заказа 0.0, Максимальная сумма заказа 1479562.34\n"
     ]
    }
   ],
   "source": [
    "print('Минимальное кол. заказов {}, Максимальное кол. заказов {}'.format(RFM['frequency'].min(), RFM['frequency'].max()))\n",
    "print('Минимальная сумма заказа {}, Максимальная сумма заказа {}'.format(RFM['monetary'].min(), RFM['monetary'].max()))"
   ]
  },
  {
   "cell_type": "code",
   "execution_count": 37,
   "metadata": {},
   "outputs": [
    {
     "data": {
      "text/plain": [
       "{'recency': {0.2: 142.0, 0.4: 227.0, 0.6: 317.0, 0.8: 433.0},\n",
       " 'monetary': {0.2: 518.2980000000005, 0.4: 1047.4, 0.6: 1900.52, 0.8: 3872.59}}"
      ]
     },
     "execution_count": 37,
     "metadata": {},
     "output_type": "execute_result"
    }
   ],
   "source": [
    "# Посчитаем процентили:\n",
    "quintiles = RFM[['recency', 'monetary']].quantile([.2, .4, .6, .8]).to_dict()\n",
    "quintiles\n",
    "# Как видим заказов у нас очень мало и frequency, все имеют одинаковую оценку. Чтобы увидеть разницу добавлю в ручную значения\n",
    "# frequency = 5 если более 5 покупок\n",
    "# recency = 4 если 4 заказа\n",
    "# recency = 3 если 3 заказа\n",
    "# recency = 2 если 2 заказа\n",
    "# recency = 1 если 1 заказ"
   ]
  },
  {
   "cell_type": "code",
   "execution_count": 38,
   "metadata": {},
   "outputs": [],
   "source": [
    "# Проранжируем RFM:\n",
    "def recency_score(x):\n",
    "    if x <= quintiles['recency'][.2]:\n",
    "        return 5\n",
    "    elif x <= quintiles['recency'][.4]:\n",
    "        return 4\n",
    "    elif x <= quintiles['recency'][.6]:\n",
    "        return 3\n",
    "    elif x <= quintiles['recency'][.8]:\n",
    "        return 2\n",
    "    else:\n",
    "        return 1\n",
    "    \n",
    "def frequency_score(x):\n",
    "    if x <= 1:\n",
    "        return 1\n",
    "    elif x <= 2:\n",
    "        return 2\n",
    "    elif x <= 3:\n",
    "        return 3\n",
    "    elif x <= 4:\n",
    "        return 4\n",
    "    else:\n",
    "        return 5 \n",
    "\n",
    "def monetary_score(x):\n",
    "    if x <= quintiles['monetary'][.2]:\n",
    "        return 1\n",
    "    elif x <= quintiles['monetary'][.4]:\n",
    "        return 2\n",
    "    elif x <= quintiles['monetary'][.6]:\n",
    "        return 3\n",
    "    elif x <= quintiles['monetary'][.8]:\n",
    "        return 4\n",
    "    else:\n",
    "        return 5  "
   ]
  },
  {
   "cell_type": "code",
   "execution_count": 39,
   "metadata": {},
   "outputs": [],
   "source": [
    "RFM['R'] = RFM['recency'].apply(lambda x: recency_score(x))\n",
    "RFM['F'] = RFM['frequency'].apply(lambda x: frequency_score(x))\n",
    "RFM['M'] = RFM['monetary'].apply(lambda x: monetary_score(x))\n",
    "RFM['RFM'] = RFM['R'].map(str) + RFM['F'].map(str) + RFM['M'].map(str)"
   ]
  },
  {
   "cell_type": "code",
   "execution_count": 40,
   "metadata": {},
   "outputs": [
    {
     "data": {
      "text/html": [
       "<div>\n",
       "<style scoped>\n",
       "    .dataframe tbody tr th:only-of-type {\n",
       "        vertical-align: middle;\n",
       "    }\n",
       "\n",
       "    .dataframe tbody tr th {\n",
       "        vertical-align: top;\n",
       "    }\n",
       "\n",
       "    .dataframe thead th {\n",
       "        text-align: right;\n",
       "    }\n",
       "</style>\n",
       "<table border=\"1\" class=\"dataframe\">\n",
       "  <thead>\n",
       "    <tr style=\"text-align: right;\">\n",
       "      <th></th>\n",
       "      <th>customer_unique_id</th>\n",
       "      <th>order_purchase_timestamp</th>\n",
       "      <th>recency</th>\n",
       "      <th>frequency</th>\n",
       "      <th>monetary</th>\n",
       "      <th>R</th>\n",
       "      <th>F</th>\n",
       "      <th>M</th>\n",
       "      <th>RFM</th>\n",
       "      <th>Segment</th>\n",
       "    </tr>\n",
       "  </thead>\n",
       "  <tbody>\n",
       "    <tr>\n",
       "      <th>0</th>\n",
       "      <td>0000366f3b9a7992bf8c76cfdf3221e2</td>\n",
       "      <td>2018-05-10 10:56:27</td>\n",
       "      <td>160</td>\n",
       "      <td>1</td>\n",
       "      <td>1558.80</td>\n",
       "      <td>4</td>\n",
       "      <td>1</td>\n",
       "      <td>3</td>\n",
       "      <td>413</td>\n",
       "      <td>new_customers</td>\n",
       "    </tr>\n",
       "    <tr>\n",
       "      <th>1</th>\n",
       "      <td>0000b849f77a49e4a4ce2b2a4ca5be3f</td>\n",
       "      <td>2018-05-07 11:11:27</td>\n",
       "      <td>163</td>\n",
       "      <td>1</td>\n",
       "      <td>156.68</td>\n",
       "      <td>4</td>\n",
       "      <td>1</td>\n",
       "      <td>1</td>\n",
       "      <td>411</td>\n",
       "      <td>new_customers</td>\n",
       "    </tr>\n",
       "    <tr>\n",
       "      <th>2</th>\n",
       "      <td>0000f46a3911fa3c0805444483337064</td>\n",
       "      <td>2017-03-10 21:05:03</td>\n",
       "      <td>585</td>\n",
       "      <td>1</td>\n",
       "      <td>1188.18</td>\n",
       "      <td>1</td>\n",
       "      <td>1</td>\n",
       "      <td>3</td>\n",
       "      <td>113</td>\n",
       "      <td>hibernating</td>\n",
       "    </tr>\n",
       "    <tr>\n",
       "      <th>3</th>\n",
       "      <td>0000f6ccb0745a6a4b88665a16c9f078</td>\n",
       "      <td>2017-10-12 20:29:41</td>\n",
       "      <td>369</td>\n",
       "      <td>1</td>\n",
       "      <td>458.20</td>\n",
       "      <td>2</td>\n",
       "      <td>1</td>\n",
       "      <td>1</td>\n",
       "      <td>211</td>\n",
       "      <td>hibernating</td>\n",
       "    </tr>\n",
       "    <tr>\n",
       "      <th>4</th>\n",
       "      <td>0004aac84e0df4da2b147fca70cf8255</td>\n",
       "      <td>2017-11-14 19:45:42</td>\n",
       "      <td>336</td>\n",
       "      <td>1</td>\n",
       "      <td>3040.20</td>\n",
       "      <td>2</td>\n",
       "      <td>1</td>\n",
       "      <td>4</td>\n",
       "      <td>214</td>\n",
       "      <td>hibernating</td>\n",
       "    </tr>\n",
       "  </tbody>\n",
       "</table>\n",
       "</div>"
      ],
      "text/plain": [
       "                 customer_unique_id order_purchase_timestamp  recency  \\\n",
       "0  0000366f3b9a7992bf8c76cfdf3221e2      2018-05-10 10:56:27      160   \n",
       "1  0000b849f77a49e4a4ce2b2a4ca5be3f      2018-05-07 11:11:27      163   \n",
       "2  0000f46a3911fa3c0805444483337064      2017-03-10 21:05:03      585   \n",
       "3  0000f6ccb0745a6a4b88665a16c9f078      2017-10-12 20:29:41      369   \n",
       "4  0004aac84e0df4da2b147fca70cf8255      2017-11-14 19:45:42      336   \n",
       "\n",
       "   frequency  monetary  R  F  M  RFM        Segment  \n",
       "0          1   1558.80  4  1  3  413  new_customers  \n",
       "1          1    156.68  4  1  1  411  new_customers  \n",
       "2          1   1188.18  1  1  3  113    hibernating  \n",
       "3          1    458.20  2  1  1  211    hibernating  \n",
       "4          1   3040.20  2  1  4  214    hibernating  "
      ]
     },
     "execution_count": 40,
     "metadata": {},
     "output_type": "execute_result"
    }
   ],
   "source": [
    "# Классы:\n",
    "# Нас интересуют 2 показателя: R (5-4 - купили недавно), 3 давно не покупали, 1-2 очень давно не покупали \n",
    "# F 1 - совершили разовую покупку, 2-5 - совершил несколько покупок\n",
    "# M -  нас интересует, у нас не такая большая выборка, чтобы плодить классы. А частота покупок, обычно отражает и доход от клиента, проще будет выбирать конкретную группу по частоте и группу с monetary\n",
    "segt_map = {\n",
    "    r'[1-2][1]': 'hibernating', # Разовая покупка давно\n",
    "    r'[1-2][2-5]': 'at_risk', # Давно не покупали, но раньше покупали часто\n",
    "    r'31': 'about_to_sleep', # Давно не покупали, можем потерять\n",
    "    r'3[2-5]': 'need_attention', # Клиенты, требующие внимания\n",
    "    r'4[2-5]': 'loyal_customers', # Покупают на регулярной основе. Реагирует на рекламные акции. \n",
    "    r'[4-5]1': 'new_customers', # Купил недавно, 1 раз\n",
    "    r'5[2-3]': 'potential_loyalists', # Недавние клиенты со средней частотой\n",
    "    r'5[4-5]': 'champions' # Купили недавно, покупают часто и тратят много\n",
    "}\n",
    "\n",
    "RFM['Segment'] = RFM['R'].map(str) + RFM['F'].map(str)\n",
    "RFM['Segment'] = RFM['Segment'].replace(segt_map, regex=True)\n",
    "RFM.head()"
   ]
  },
  {
   "cell_type": "code",
   "execution_count": 41,
   "metadata": {},
   "outputs": [
    {
     "data": {
      "image/png": "[encoded data removed]",
      "text/plain": [
       "<Figure size 864x360 with 2 Axes>"
      ]
     },
     "metadata": {},
     "output_type": "display_data"
    },
    {
     "data": {
      "image/png": "[encoded data removed]",
      "text/plain": [
       "<Figure size 864x864 with 25 Axes>"
      ]
     },
     "metadata": {},
     "output_type": "display_data"
    }
   ],
   "source": [
    "# Визуализация распределения клиентов по R и F\n",
    "fig, axes = plt.subplots(nrows=1, ncols=2, figsize=(12, 5))\n",
    "\n",
    "for i, p in enumerate(['R', 'F']):\n",
    "    parameters = {'R': 'Recency', 'F': 'Frequency'}\n",
    "    y = RFM[p].value_counts().sort_index()\n",
    "    x = y.index\n",
    "    ax = axes[i]\n",
    "    bars = ax.bar(x, y, color='skyblue')\n",
    "    ax.set_frame_on(False)\n",
    "    ax.tick_params(left=False, labelleft=False, bottom=False)\n",
    "    ax.set_title('Distribution of {}'.format(parameters[p]), fontsize=14)\n",
    "    for bar in bars:\n",
    "        value = bar.get_height()\n",
    "        if value == y.max():\n",
    "            bar.set_color('royalblue')\n",
    "        ax.text(bar.get_x() + bar.get_width() / 2,\n",
    "                value - 5,\n",
    "                '{}\\n({:.1f}%)'.format(int(value), value * 100 / y.sum()),\n",
    "                ha='center', va='top', color='black')\n",
    "\n",
    "plt.tight_layout()\n",
    "plt.show()\n",
    "\n",
    "# Визуализация распределения M для каждой F и R\n",
    "fig, axes = plt.subplots(nrows=5, ncols=5,\n",
    "                         sharex=False, sharey=True,\n",
    "                         figsize=(12, 12))\n",
    "\n",
    "r_range = range(1, 6)\n",
    "f_range = range(1, 6)\n",
    "for r in r_range:\n",
    "    for f in f_range:\n",
    "        y = RFM[(RFM['R'] == r) & (RFM['F'] == f)]['M'].value_counts().sort_index()\n",
    "        x = y.index\n",
    "        ax = axes[r - 1, f - 1]\n",
    "        bars = ax.bar(x, y, color='skyblue')\n",
    "        if r == 5:\n",
    "            if f == 3:\n",
    "                ax.set_xlabel('F{}'.format(f), va='top', fontsize=12)\n",
    "            else:\n",
    "                ax.set_xlabel('F{}'.format(f), va='top', fontsize=12)\n",
    "        if f == 1:\n",
    "            if r == 3:\n",
    "                ax.set_ylabel('R{}'.format(r), fontsize=12)\n",
    "            else:\n",
    "                ax.set_ylabel('R{}'.format(r), fontsize=12)\n",
    "        ax.set_frame_on(False)\n",
    "        ax.tick_params(left=False, labelleft=False, bottom=False)\n",
    "        ax.set_xticks(x)\n",
    "        ax.set_xticklabels(x, fontsize=8)\n",
    "\n",
    "        for bar in bars:\n",
    "            value = bar.get_height()\n",
    "            if value == y.max():\n",
    "                bar.set_color('royalblue')\n",
    "            ax.text(bar.get_x() + bar.get_width() / 2,\n",
    "                    value,\n",
    "                    int(value),\n",
    "                    ha='center',\n",
    "                    va='bottom',\n",
    "                    color='black')\n",
    "fig.suptitle('Distribution of M for each F and R', fontsize=14)\n",
    "plt.tight_layout(rect=[0, 0.03, 1, 0.95])\n",
    "plt.show()"
   ]
  },
  {
   "cell_type": "markdown",
   "metadata": {},
   "source": [
    "### Проверим распределение по количеству заказов и выручке по месяцам и годам"
   ]
  },
  {
   "cell_type": "code",
   "execution_count": 45,
   "metadata": {},
   "outputs": [
    {
     "data": {
      "text/html": [
       "<div>\n",
       "<style scoped>\n",
       "    .dataframe tbody tr th:only-of-type {\n",
       "        vertical-align: middle;\n",
       "    }\n",
       "\n",
       "    .dataframe tbody tr th {\n",
       "        vertical-align: top;\n",
       "    }\n",
       "\n",
       "    .dataframe thead th {\n",
       "        text-align: right;\n",
       "    }\n",
       "</style>\n",
       "<table border=\"1\" class=\"dataframe\">\n",
       "  <thead>\n",
       "    <tr style=\"text-align: right;\">\n",
       "      <th></th>\n",
       "      <th>order_purchase_mon_year</th>\n",
       "      <th>count_orders</th>\n",
       "      <th>sum_price</th>\n",
       "    </tr>\n",
       "  </thead>\n",
       "  <tbody>\n",
       "    <tr>\n",
       "      <th>0</th>\n",
       "      <td>2016-09</td>\n",
       "      <td>4</td>\n",
       "      <td>3616.20</td>\n",
       "    </tr>\n",
       "    <tr>\n",
       "      <th>1</th>\n",
       "      <td>2016-10</td>\n",
       "      <td>320</td>\n",
       "      <td>1329670.80</td>\n",
       "    </tr>\n",
       "    <tr>\n",
       "      <th>2</th>\n",
       "      <td>2016-12</td>\n",
       "      <td>1</td>\n",
       "      <td>95.05</td>\n",
       "    </tr>\n",
       "    <tr>\n",
       "      <th>3</th>\n",
       "      <td>2017-01</td>\n",
       "      <td>798</td>\n",
       "      <td>2808596.24</td>\n",
       "    </tr>\n",
       "    <tr>\n",
       "      <th>4</th>\n",
       "      <td>2017-02</td>\n",
       "      <td>1770</td>\n",
       "      <td>8395509.92</td>\n",
       "    </tr>\n",
       "  </tbody>\n",
       "</table>\n",
       "</div>"
      ],
      "text/plain": [
       "  order_purchase_mon_year  count_orders   sum_price\n",
       "0                 2016-09             4     3616.20\n",
       "1                 2016-10           320  1329670.80\n",
       "2                 2016-12             1       95.05\n",
       "3                 2017-01           798  2808596.24\n",
       "4                 2017-02          1770  8395509.92"
      ]
     },
     "execution_count": 45,
     "metadata": {},
     "output_type": "execute_result"
    }
   ],
   "source": [
    "#* Интересно посмотреть на кол заказов по годам и месяцам:\n",
    "price_orders_1 = (\n",
    "    order_and_costomer.merge(order_sum_price, on = 'order_id', how='left') \\\n",
    "    .groupby('order_purchase_mon_year', as_index=False) \\\n",
    "    .agg({'customer_id' : 'count', 'sum_price' : 'sum'}) \\\n",
    "    .rename(columns={'customer_id' : 'count_orders'})\n",
    ")\n",
    "price_orders_1.head()"
   ]
  },
  {
   "cell_type": "code",
   "execution_count": 46,
   "metadata": {},
   "outputs": [
    {
     "data": {
      "image/png": "[encoded data removed]",
      "text/plain": [
       "<Figure size 1296x504 with 1 Axes>"
      ]
     },
     "metadata": {},
     "output_type": "display_data"
    }
   ],
   "source": [
    "# Кол продаж\n",
    "sns.barplot(data = price_orders_1, x='order_purchase_mon_year', y='count_orders')\n",
    "plt.xticks(rotation=45)\n",
    "plt.show()"
   ]
  },
  {
   "cell_type": "code",
   "execution_count": 47,
   "metadata": {},
   "outputs": [
    {
     "data": {
      "image/png": "[encoded data removed]",
      "text/plain": [
       "<Figure size 1296x504 with 1 Axes>"
      ]
     },
     "metadata": {},
     "output_type": "display_data"
    }
   ],
   "source": [
    "# Выручка по времени\n",
    "sns.barplot(data = price_orders_1, x='order_purchase_mon_year', y='sum_price')\n",
    "plt.xticks(rotation=45)\n",
    "plt.show()"
   ]
  },
  {
   "cell_type": "markdown",
   "metadata": {},
   "source": [
    "### Небольшое заключение:\n",
    "- Количесество заказов не растет, но видим что выручка возрастает. На выходных наблюдается спад продаж.\n",
    "- Retention низкий 0,65% пользователей совершают покупки на следующий месяц после первой покупки.\n",
    "- 3.1% пользователей делают больше 1 покупки, что позволяет наращивать выручку.\n",
    "- % отмен и недоставленных заказов 1.24% от всех заказов."
   ]
  }
 ],
 "metadata": {
  "kernelspec": {
   "display_name": "Python 3",
   "language": "python",
   "name": "python3"
  },
  "language_info": {
   "codemirror_mode": {
    "name": "ipython",
    "version": 3
   },
   "file_extension": ".py",
   "mimetype": "text/x-python",
   "name": "python",
   "nbconvert_exporter": "python",
   "pygments_lexer": "ipython3",
   "version": "3.7.3"
  }
 },
 "nbformat": 4,
 "nbformat_minor": 4
}
